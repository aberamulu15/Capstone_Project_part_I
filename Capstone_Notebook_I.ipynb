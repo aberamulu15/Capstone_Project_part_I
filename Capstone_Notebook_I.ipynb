{
    "nbformat_minor": 1, 
    "cells": [
        {
            "source": "# 1. Introduction", 
            "cell_type": "markdown", 
            "metadata": {}
        }, 
        {
            "source": "An insurance company is trying to launch an office in New York city in one of the Borough's to make profit at a minimum cost. There are five Borough categories; Bronx, Brooklyn, Manhattan, Queens and Staten Island. The company wants to decide one Borough out of these five locations. For the insurance company's profitability and set insurance premium for the residents of New York city, and advocate a systems approach to road traffic safety that emphasizes involvement at all levels of the road traffic system, studying motor vehicle collisions statistics from public dataset in each Borough group is important. The dataset contains information on motorists, cyclists, and pedestrians. The company is trying to answer which regions are better or worse in terms of number of injuries and fatalities?  \n   \nRoad traffic accidents are the leading cause of death and injury and the tenth leading cause of all deaths globally. Now make up a surprisingly significant portion of the worldwide burden of ill health. An estimated 1.2 million people are killed in road crashes each year and as many as 50 million are injured. If present trends continue, road traffic injuries are predicted to be the third leading contributor to the global burden of disease and injury by 2020. This burden is creating enormous economic hardship due to the loss of family.  \nRoad traffic injuries are preventable if successsful interventions such as seat belt safety laws, enforcement of speed limits, warnings about the dangers of mixing alcohol consumption with driving, and safer design and use of roads and vehicles are considered. More than one-half of all road traffic deaths globally occur among people ages 15 to 44\u2014their most productive earning years. Moreover, the disability burden for this age group accounts for 60 percent of all lost because of road traffic accidents. \nDriver impairment is an important component of road traffic accidents, driving at excess speeds, while under the influence of alcohol or drugs, while sleepy or tired, when visibility is compromised, or without protective gear for all vehicle occupants are major factors in crashes, deaths, and serious injuries.\nPrevention interventions include: managing risk exposure to potential road traffic injury, Planning and designing roads for safety, setting road and safety rules, securing compliance, and improving transport policy, Providing visible, crashworthy, and smart vehicles.\n\nThe dataset contains a breakdown of every collision by location and injury. Each record represents a collision in New York by borough and this data can be used to do in-depth analysis.", 
            "cell_type": "markdown", 
            "metadata": {}
        }, 
        {
            "source": "# 2. Dataset", 
            "cell_type": "markdown", 
            "metadata": {}
        }, 
        {
            "source": "In this section the dataset used in the analysis is described. The public dataset about motor vehicle collision was obtained from kaggle website and there are 29 variables\nand 1.4 million rows. Each record includes location coordinates and other feauture variables, most notably the number of injuries and fatalities, segmented further by motorists, cyclists, and pedestrians. Out of these feature variables some of them important for this particular study are selected. These are Borough, Latitude, Longitude, number of persons injured, number of persons killed, number of pedestrians injured, number of pedestrians killed, number of cyclist injured, number of cyclist killed, number of motorist injured and number of motorist killed. The original dataset is processed, the rows that has any missing values were removed in order to perform statistical analysis. The variable Borough is used to study which of the Borough group has the higher number of deaths and injuries as comparred to the other. The motor vehicle collisions dataset is in .csv format, which can be easily imported into pandas. After the dataset is processed and the missing values were removed, the pandas dataframe contains information on 671513 records; from these 211793 Brooklyn, 183346 Queens, 152546 Manhattan, 96756 Bronx and 27072 Staten Island. \n\nFor a Borough that has the lowest number of people killed and injured, a Foursquare location data is used in order to get the most common venues of given Borough of New York city and then we will use these features to cluster the Borough's in to different cluster groups.   \n\nThe total number of people involved in accident by each Borough category, the maximum number of people killed as well as the average number of person's killed is presented in the following output:\n", 
            "cell_type": "markdown", 
            "metadata": {}
        }, 
        {
            "execution_count": 12, 
            "cell_type": "code", 
            "metadata": {}, 
            "outputs": [
                {
                    "execution_count": 12, 
                    "metadata": {}, 
                    "data": {
                        "text/html": "<div>\n<style scoped>\n    .dataframe tbody tr th:only-of-type {\n        vertical-align: middle;\n    }\n\n    .dataframe tbody tr th {\n        vertical-align: top;\n    }\n\n    .dataframe thead th {\n        text-align: right;\n    }\n</style>\n<table border=\"1\" class=\"dataframe\">\n  <thead>\n    <tr style=\"text-align: right;\">\n      <th></th>\n      <th>count</th>\n      <th>max</th>\n      <th>mean</th>\n    </tr>\n    <tr>\n      <th>BOROUGH</th>\n      <th></th>\n      <th></th>\n      <th></th>\n    </tr>\n  </thead>\n  <tbody>\n    <tr>\n      <th>BRONX</th>\n      <td>96756</td>\n      <td>2.0</td>\n      <td>0.000837</td>\n    </tr>\n    <tr>\n      <th>BROOKLYN</th>\n      <td>211793</td>\n      <td>2.0</td>\n      <td>0.000977</td>\n    </tr>\n    <tr>\n      <th>MANHATTAN</th>\n      <td>152546</td>\n      <td>8.0</td>\n      <td>0.000741</td>\n    </tr>\n    <tr>\n      <th>QUEENS</th>\n      <td>183346</td>\n      <td>4.0</td>\n      <td>0.001004</td>\n    </tr>\n    <tr>\n      <th>STATEN ISLAND</th>\n      <td>27072</td>\n      <td>2.0</td>\n      <td>0.001441</td>\n    </tr>\n  </tbody>\n</table>\n</div>", 
                        "text/plain": "                count  max      mean\nBOROUGH                             \nBRONX           96756  2.0  0.000837\nBROOKLYN       211793  2.0  0.000977\nMANHATTAN      152546  8.0  0.000741\nQUEENS         183346  4.0  0.001004\nSTATEN ISLAND   27072  2.0  0.001441"
                    }, 
                    "output_type": "execute_result"
                }
            ], 
            "source": "df_col.groupby('BOROUGH').NUM_KILLED.agg(['count', 'max', 'mean'])       "
        }, 
        {
            "source": "Furthermore, the following table shows the total number of people involved in accident by each Borough category, the maximum number of people injured as well as the average number of person's injured. The highest number of people injured is in the District(Borough) of Queens which is 32 where as the lowest is 20 in Bronx.", 
            "cell_type": "markdown", 
            "metadata": {}
        }, 
        {
            "execution_count": 13, 
            "cell_type": "code", 
            "metadata": {}, 
            "outputs": [
                {
                    "execution_count": 13, 
                    "metadata": {}, 
                    "data": {
                        "text/html": "<div>\n<style scoped>\n    .dataframe tbody tr th:only-of-type {\n        vertical-align: middle;\n    }\n\n    .dataframe tbody tr th {\n        vertical-align: top;\n    }\n\n    .dataframe thead th {\n        text-align: right;\n    }\n</style>\n<table border=\"1\" class=\"dataframe\">\n  <thead>\n    <tr style=\"text-align: right;\">\n      <th></th>\n      <th>count</th>\n      <th>max</th>\n      <th>mean</th>\n    </tr>\n    <tr>\n      <th>BOROUGH</th>\n      <th></th>\n      <th></th>\n      <th></th>\n    </tr>\n  </thead>\n  <tbody>\n    <tr>\n      <th>BRONX</th>\n      <td>96756</td>\n      <td>20.0</td>\n      <td>0.271797</td>\n    </tr>\n    <tr>\n      <th>BROOKLYN</th>\n      <td>211793</td>\n      <td>24.0</td>\n      <td>0.274192</td>\n    </tr>\n    <tr>\n      <th>MANHATTAN</th>\n      <td>152546</td>\n      <td>27.0</td>\n      <td>0.168900</td>\n    </tr>\n    <tr>\n      <th>QUEENS</th>\n      <td>183346</td>\n      <td>32.0</td>\n      <td>0.257557</td>\n    </tr>\n    <tr>\n      <th>STATEN ISLAND</th>\n      <td>27072</td>\n      <td>22.0</td>\n      <td>0.243388</td>\n    </tr>\n  </tbody>\n</table>\n</div>", 
                        "text/plain": "                count   max      mean\nBOROUGH                              \nBRONX           96756  20.0  0.271797\nBROOKLYN       211793  24.0  0.274192\nMANHATTAN      152546  27.0  0.168900\nQUEENS         183346  32.0  0.257557\nSTATEN ISLAND   27072  22.0  0.243388"
                    }, 
                    "output_type": "execute_result"
                }
            ], 
            "source": "df_col.groupby('BOROUGH').NUM_INJURED.agg(['count', 'max', 'mean'])"
        }
    ], 
    "metadata": {
        "kernelspec": {
            "display_name": "Python 3.6", 
            "name": "python3", 
            "language": "python"
        }, 
        "language_info": {
            "mimetype": "text/x-python", 
            "nbconvert_exporter": "python", 
            "version": "3.6.8", 
            "name": "python", 
            "file_extension": ".py", 
            "pygments_lexer": "ipython3", 
            "codemirror_mode": {
                "version": 3, 
                "name": "ipython"
            }
        }
    }, 
    "nbformat": 4
}